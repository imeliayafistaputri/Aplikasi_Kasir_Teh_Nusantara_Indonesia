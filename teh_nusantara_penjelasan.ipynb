{
  "nbformat": 4,
  "nbformat_minor": 0,
  "metadata": {
    "colab": {
      "provenance": [],
      "authorship_tag": "ABX9TyPGvxcbdj8Mu+Ysnt9PRcGR",
      "include_colab_link": true
    },
    "kernelspec": {
      "name": "python3",
      "display_name": "Python 3"
    },
    "language_info": {
      "name": "python"
    }
  },
  "cells": [
    {
      "cell_type": "markdown",
      "metadata": {
        "id": "view-in-github",
        "colab_type": "text"
      },
      "source": [
        "<a href=\"https://colab.research.google.com/github/imeliayafistaputri/Aplikasi_Kasir_Teh_Nusantara_Indonesia/blob/main/teh_nusantara_penjelasan.ipynb\" target=\"_parent\"><img src=\"https://colab.research.google.com/assets/colab-badge.svg\" alt=\"Open In Colab\"/></a>"
      ]
    },
    {
      "cell_type": "code",
      "execution_count": null,
      "metadata": {
        "id": "kr_DSV2L39lm"
      },
      "outputs": [],
      "source": [
        "# TUGAS_ALGORITMA_PEMOGRAMAN_PERTEMUAN_14\n",
        "\n",
        "## ORDER TEH APP\n",
        "\n",
        "Aplikasi sederhana berbasis CLI (Command Line Inyerface) untuk pesan teh.\n",
        "Dibuat dengan Python menggunakan konsep Object-Oriented Programming (OOP)\n",
        "\n",
        "## FITUR\n",
        "- Pilih Teh dari menu\n",
        "- Tambah Teh ke daftar menu\n",
        "- Lihat ringkasan pesanan\n",
        "- Checkout dengan konfirmasi\n",
        "- Pesa dan tampilan menggunakan bahasa yang santai\n",
        "\n",
        "## CARA MENGERJAKAN\n",
        "\n",
        "- Pastikan sudah install Python minimal versi 3x\n",
        "- Clone repositori ini atau download file py nya\n",
        "- Jalankan lewat terminal atau CMD\n",
        "\n",
        "KODE: pytontehorder.py\n",
        "\n",
        "## MENU TEH NUSANTARA\n",
        "\n",
        "1. Teh Hijau - Rp.7000\n",
        "2. Teh Melati - Rp.7000\n",
        "3. Teh Oolong - Rp.8000\n",
        "4. Teh Bunga Rosella - Rp.10000\n",
        "5. Teh Gurah - Rp.10000\n",
        "\n",
        "## STRUKTUR KODE\n",
        "\n",
        "- Teh class\n",
        "\n",
        "Menyimpan data nama dan harga Teh\n",
        "\n",
        "-order class\n",
        "\n",
        "1. add-item(): tambah teh kepesanan\n",
        "2. show_order(): menunjukan daftar pesanan sama total harga\n",
        "3. checkout(): konfirmasi beli dan reset pesanan\n",
        "4. total(): hitung total harga pesanan\n",
        "\n",
        "-main() function\n",
        "\n",
        "teh_inventory/\n",
        "|--teh_nusantara.py           # file utama program\n",
        "|--inventory.json             # Data menu & stok (otomatis dibuat)\n",
        "|--backup_inventory.json      # Backup data\n",
        "|--README.md                  # Penjelasan data\n",
        "\n",
        "Tempat program jalan, menampilkan menu, dan menerima input dari pengguna\n",
        "\n",
        "## CONTOH SAAT DIGUNAKAN\n",
        "\n",
        "---Menu Teh Nusantara---\n",
        "1. Teh Hijau - Rp7000 (stock: 10)\n",
        "2. Teh Melati - Rp7000 (stock: 7)\n",
        "3. Teh Oolong - Rp8000 (stock: 10)\n",
        "4. Teh Bunga Rosella - Rp10000 (stock: 12)\n",
        "5. Teh Gurah - Rp10000 (stock: 15)\n",
        "6. Lihat keranjang pesanan\n",
        "7. Checkout\n",
        "8. Laporan Penjualan\n",
        "9. Backup data\n",
        "10. Keluar\n",
        "\n",
        "ketika checkout belum ada pesanan, akan muncul:\n",
        "belum ada pesanan nih ka\n",
        "\n"
      ]
    }
  ]
}